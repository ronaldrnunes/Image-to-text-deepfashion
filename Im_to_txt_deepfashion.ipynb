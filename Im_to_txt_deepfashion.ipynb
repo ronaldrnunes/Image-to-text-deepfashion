{
  "nbformat": 4,
  "nbformat_minor": 0,
  "metadata": {
    "colab": {
      "provenance": [],
      "toc_visible": true
    },
    "kernelspec": {
      "name": "python3",
      "display_name": "Python 3"
    },
    "language_info": {
      "name": "python"
    }
  },
  "cells": [
    {
      "cell_type": "markdown",
      "source": [
        "# Problema Abordado"
      ],
      "metadata": {
        "id": "QdqaXbuLiQ1a"
      }
    },
    {
      "cell_type": "markdown",
      "source": [
        "# Implementação"
      ],
      "metadata": {
        "id": "9AhBEMWDUmAW"
      }
    },
    {
      "cell_type": "markdown",
      "source": [
        "## Importações"
      ],
      "metadata": {
        "id": "ZOmiCXs8T7mx"
      }
    },
    {
      "cell_type": "code",
      "source": [
        "import torch\n",
        "from torchvision import transforms, datasets\n",
        "from torch.utils.data import DataLoader, Dataset\n",
        "import torch.nn as nn\n",
        "import torch.optim as optim\n",
        "import pandas as pd\n",
        "import numpy as np\n",
        "import matplotlib.pyplot as plt"
      ],
      "metadata": {
        "id": "7bNllyRyT_2Q"
      },
      "execution_count": 2,
      "outputs": []
    },
    {
      "cell_type": "markdown",
      "source": [
        "##Funções Auxiliares"
      ],
      "metadata": {
        "id": "9uMtEMsuchLL"
      }
    },
    {
      "cell_type": "code",
      "source": [
        "def train_model(\n",
        "    model,          # Seu modelo\n",
        "    train_loader,   # DataLoader de treino\n",
        "    criterion,      # Função de perda\n",
        "    optimizer,      # Otimizador\n",
        "    device,         # \"cuda\" ou \"cpu\"\n",
        "    epochs=10       # Número de épocas\n",
        "):\n",
        "    model.to(device)\n",
        "    model.train()  # Modo treino\n",
        "\n",
        "    for epoch in range(epochs):\n",
        "        epoch_loss = 0.0\n",
        "\n",
        "        for images, captions in train_loader:\n",
        "\n",
        "            images = images.to(device)\n",
        "            captions = captions.to(device)\n",
        "\n",
        "\n",
        "            optimizer.zero_grad()\n",
        "\n",
        "\n",
        "            outputs = model(images, captions[:, :-1])\n",
        "            loss = criterion(\n",
        "                outputs.view(-1, outputs.size(-1)),\n",
        "                captions[:, 1:].reshape(-1)\n",
        "            )\n",
        "\n",
        "            loss.backward()\n",
        "            optimizer.step()\n",
        "\n",
        "            epoch_loss += loss.item()\n",
        "\n",
        "        # Loss médio da época\n",
        "        avg_loss = epoch_loss / len(train_loader)\n",
        "        print(f\"Epoch {epoch+1}/{epochs} - Loss: {avg_loss:.4f}\")"
      ],
      "metadata": {
        "id": "aypah2WacsEP"
      },
      "execution_count": null,
      "outputs": []
    },
    {
      "cell_type": "markdown",
      "source": [
        "## Dados"
      ],
      "metadata": {
        "id": "39mL4ikCiW_a"
      }
    },
    {
      "cell_type": "markdown",
      "source": [
        "###Carregando o dataset\n"
      ],
      "metadata": {
        "id": "bBiPU36gWSSU"
      }
    },
    {
      "cell_type": "code",
      "source": [
        "transform = transforms.Compose([\n",
        "    transforms.ToTensor(),\n",
        "\n",
        "])"
      ],
      "metadata": {
        "colab": {
          "base_uri": "https://localhost:8080/"
        },
        "id": "OA59r0s1VVUB",
        "outputId": "b52cbe8f-692d-42f2-b321-ea0d738f4b94"
      },
      "execution_count": 3,
      "outputs": [
        {
          "output_type": "stream",
          "name": "stderr",
          "text": [
            "100%|██████████| 26.4M/26.4M [00:01<00:00, 14.7MB/s]\n",
            "100%|██████████| 29.5k/29.5k [00:00<00:00, 234kB/s]\n",
            "100%|██████████| 4.42M/4.42M [00:01<00:00, 4.32MB/s]\n",
            "100%|██████████| 5.15k/5.15k [00:00<00:00, 19.1MB/s]\n"
          ]
        }
      ]
    },
    {
      "cell_type": "markdown",
      "source": [
        "### Data Loader"
      ],
      "metadata": {
        "id": "9qla7QbiWDzk"
      }
    },
    {
      "cell_type": "code",
      "source": [
        "batch_size = 64\n",
        "train_loader = DataLoader(train_data, batch_size=batch_size, shuffle=True)\n",
        "test_loader = DataLoader(test_data, batch_size=batch_size, shuffle=False)"
      ],
      "metadata": {
        "id": "XbuYF9FvWPLq"
      },
      "execution_count": null,
      "outputs": []
    },
    {
      "cell_type": "markdown",
      "source": [
        "## Rede Implementada"
      ],
      "metadata": {
        "id": "LnpjZSgZiWi2"
      }
    },
    {
      "cell_type": "code",
      "source": [
        "\n",
        "\n",
        "class ImageToText(nn.Module):\n",
        "    def __init__(self):\n",
        "        super().__init__()\n",
        "\n",
        "        # Encoder (CNN - Custom)\n",
        "\n",
        "\n",
        "        # Decoder (GPT2)\n",
        "\n",
        "\n",
        "    def forward(self,):\n"
      ],
      "metadata": {
        "id": "oAzQW_y3a2Vw"
      },
      "execution_count": null,
      "outputs": []
    },
    {
      "cell_type": "markdown",
      "source": [
        "# Treinamento da Rede"
      ],
      "metadata": {
        "id": "M9NpecFBiXTH"
      }
    },
    {
      "cell_type": "markdown",
      "source": [
        "# Qualidade dos Resultados"
      ],
      "metadata": {
        "id": "ukwVKsITiXrC"
      }
    },
    {
      "cell_type": "markdown",
      "source": [
        "# Discussão Geral"
      ],
      "metadata": {
        "id": "TWUsn09Ei0V0"
      }
    }
  ]
}